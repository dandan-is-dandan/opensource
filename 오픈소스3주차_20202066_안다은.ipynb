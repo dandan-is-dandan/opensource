{
 "cells": [
  {
   "cell_type": "markdown",
   "id": "f41072cf-9165-4d59-8f86-a853ed186e51",
   "metadata": {},
   "source": [
    "예제1"
   ]
  },
  {
   "cell_type": "code",
   "execution_count": 1,
   "id": "c66033bf-eeea-4815-9add-266c376135f1",
   "metadata": {},
   "outputs": [],
   "source": [
    "DIAL_CODES =[\n",
    "    (86, 'China'),\n",
    "    (91, 'India'),\n",
    "    (1, 'United States'),\n",
    "    (55, 'Brazil'),\n",
    "    (7, 'Russia'),\n",
    "]\n"
   ]
  },
  {
   "cell_type": "code",
   "execution_count": 2,
   "id": "f36a8c88-4858-47d3-b324-f6e1c9ce0cc9",
   "metadata": {},
   "outputs": [
    {
     "data": {
      "text/plain": [
       "{'China': 86, 'India': 91, 'United States': 1, 'Brazil': 55, 'Russia': 7}"
      ]
     },
     "execution_count": 2,
     "metadata": {},
     "output_type": "execute_result"
    }
   ],
   "source": [
    "country_code = {country: code for code, country in DIAL_CODES}\n",
    "country_code "
   ]
  },
  {
   "cell_type": "code",
   "execution_count": 6,
   "id": "5fb7b263-a988-42ef-8c52-fb83bd6f60e9",
   "metadata": {},
   "outputs": [
    {
     "data": {
      "text/plain": [
       "{1: 'UNITED STATES', 55: 'BRAZIL', 7: 'RUSSIA'}"
      ]
     },
     "execution_count": 6,
     "metadata": {},
     "output_type": "execute_result"
    }
   ],
   "source": [
    "{code: country.upper() for country, code in country_code.items()\n",
    " if code < 66}"
   ]
  },
  {
   "cell_type": "markdown",
   "id": "9a9ace70-5693-4680-b84e-ffc844eef19a",
   "metadata": {},
   "source": [
    "예제2"
   ]
  },
  {
   "cell_type": "code",
   "execution_count": 8,
   "id": "9e084406-0c9a-4b34-9062-e71e19fc1d24",
   "metadata": {},
   "outputs": [
    {
     "name": "stdout",
     "output_type": "stream",
     "text": [
      "1450 [(1, 55), (7, 123)]\n",
      "1450 [(1, 55), (7, 123)]\n",
      "1450 [(1, 55), (7, 123)]\n",
      "1450 [(1, 55), (7, 123)]\n",
      "1450 [(1, 55), (7, 123)]\n",
      "1450 [(1, 55), (7, 123)]\n",
      "1450 [(1, 55), (7, 123)]\n",
      "1450 [(1, 55), (7, 123)]\n",
      "1450 [(1, 55), (7, 123)]\n",
      "1450 [(1, 55), (7, 123)]\n",
      "1450 [(1, 55), (7, 123)]\n",
      "1450 [(1, 55), (7, 123)]\n",
      "1450 [(1, 55), (7, 123)]\n",
      "1450 [(1, 55), (7, 123)]\n",
      "1450 [(1, 55), (7, 123)]\n",
      "1450 [(1, 55), (7, 123)]\n",
      "1450 [(1, 55), (7, 123)]\n",
      "1450 [(1, 55), (7, 123)]\n",
      "1450 [(1, 55), (7, 123)]\n",
      "1450 [(1, 55), (7, 123)]\n",
      "1450 [(1, 55), (7, 123)]\n",
      "1450 [(1, 55), (7, 123)]\n",
      "1450 [(1, 55), (7, 123)]\n",
      "1450 [(1, 55), (7, 123)]\n",
      "1450 [(1, 55), (7, 123)]\n",
      "1450 [(1, 55), (7, 123)]\n",
      "1450 [(1, 55), (7, 123)]\n",
      "1450 [(1, 55), (7, 123)]\n",
      "1450 [(1, 55), (7, 123)]\n",
      "1450 [(1, 55), (7, 123)]\n",
      "1450 [(1, 55), (7, 123)]\n",
      "1450 [(1, 55), (7, 123)]\n",
      "1450 [(1, 55), (7, 123)]\n",
      "1450 [(1, 55), (7, 123)]\n",
      "1450 [(1, 55), (7, 123)]\n",
      "1450 [(1, 55), (7, 123)]\n",
      "1450 [(1, 55), (7, 123)]\n",
      "1450 [(1, 55), (7, 123)]\n",
      "1450 [(1, 55), (7, 123)]\n",
      "1450 [(1, 55), (7, 123)]\n",
      "1450 [(1, 55), (7, 123)]\n",
      "1450 [(1, 55), (7, 123)]\n",
      "1450 [(1, 55), (7, 123)]\n",
      "1450 [(1, 55), (7, 123)]\n",
      "1450 [(1, 55), (7, 123)]\n",
      "1450 [(1, 55), (7, 123)]\n",
      "1450 [(1, 55), (7, 123)]\n",
      "1450 [(1, 55), (7, 123)]\n",
      "1450 [(1, 55), (7, 123)]\n",
      "1450 [(1, 55), (7, 123)]\n",
      "1450 [(1, 55), (7, 123)]\n",
      "1450 [(1, 55), (7, 123)]\n",
      "1450 [(1, 55), (7, 123)]\n",
      "1450 [(1, 55), (7, 123)]\n",
      "1450 [(1, 55), (7, 123)]\n",
      "1450 [(1, 55), (7, 123)]\n",
      "1450 [(1, 55), (7, 123)]\n",
      "1450 [(1, 55), (7, 123)]\n",
      "1450 [(1, 55), (7, 123)]\n",
      "1450 [(1, 55), (7, 123)]\n",
      "1450 [(1, 55), (7, 123)]\n",
      "1450 [(1, 55), (7, 123)]\n",
      "1450 [(1, 55), (7, 123)]\n",
      "1450 [(1, 55), (7, 123)]\n",
      "1450 [(1, 55), (7, 123)]\n",
      "1450 [(1, 55), (7, 123)]\n",
      "1450 [(1, 55), (7, 123)]\n",
      "1450 [(1, 55), (7, 123)]\n",
      "1450 [(1, 55), (7, 123)]\n",
      "1450 [(1, 55), (7, 123)]\n",
      "1450 [(1, 55), (7, 123)]\n",
      "1450 [(1, 55), (7, 123)]\n",
      "1450 [(1, 55), (7, 123)]\n",
      "1450 [(1, 55), (7, 123)]\n",
      "1450 [(1, 55), (7, 123)]\n",
      "1450 [(1, 55), (7, 123)]\n",
      "1450 [(1, 55), (7, 123)]\n",
      "1450 [(1, 55), (7, 123)]\n",
      "1450 [(1, 55), (7, 123)]\n",
      "1450 [(1, 55), (7, 123)]\n",
      "1450 [(1, 55), (7, 123)]\n",
      "1450 [(1, 55), (7, 123)]\n",
      "1450 [(1, 55), (7, 123)]\n",
      "1450 [(1, 55), (7, 123)]\n",
      "1450 [(1, 55), (7, 123)]\n",
      "1450 [(1, 55), (7, 123)]\n",
      "1450 [(1, 55), (7, 123)]\n",
      "1450 [(1, 55), (7, 123)]\n",
      "1450 [(1, 55), (7, 123)]\n",
      "1450 [(1, 55), (7, 123)]\n",
      "1450 [(1, 55), (7, 123)]\n",
      "1450 [(1, 55), (7, 123)]\n",
      "1450 [(1, 55), (7, 123)]\n",
      "1450 [(1, 55), (7, 123)]\n",
      "1450 [(1, 55), (7, 123)]\n",
      "1450 [(1, 55), (7, 123)]\n",
      "1450 [(1, 55), (7, 123)]\n",
      "1450 [(1, 55), (7, 123)]\n",
      "1450 [(1, 55), (7, 123)]\n",
      "1450 [(1, 55), (7, 123)]\n",
      "1450 [(1, 55), (7, 123)]\n",
      "1450 [(1, 55), (7, 123)]\n",
      "1450 [(1, 55), (7, 123)]\n",
      "1450 [(1, 55), (7, 123)]\n",
      "1450 [(1, 55), (7, 123)]\n",
      "1450 [(1, 55), (7, 123)]\n",
      "1450 [(1, 55), (7, 123)]\n",
      "1450 [(1, 55), (7, 123)]\n",
      "1450 [(1, 55), (7, 123)]\n",
      "1450 [(1, 55), (7, 123)]\n",
      "1450 [(1, 55), (7, 123)]\n",
      "1450 [(1, 55), (7, 123)]\n",
      "1450 [(1, 55), (7, 123)]\n",
      "1450 [(1, 55), (7, 123)]\n",
      "1450 [(1, 55), (7, 123)]\n",
      "1450 [(1, 55), (7, 123)]\n",
      "1450 [(1, 55), (7, 123)]\n",
      "1450 [(1, 55), (7, 123)]\n",
      "1450 [(1, 55), (7, 123)]\n",
      "1450 [(1, 55), (7, 123)]\n",
      "1450 [(1, 55), (7, 123)]\n",
      "1450 [(1, 55), (7, 123)]\n",
      "1450 [(1, 55), (7, 123)]\n",
      "1450 [(1, 55), (7, 123)]\n",
      "1450 [(1, 55), (7, 123)]\n",
      "1450 [(1, 55), (7, 123)]\n",
      "1450 [(1, 55), (7, 123)]\n",
      "1450 [(1, 55), (7, 123)]\n",
      "1450 [(1, 55), (7, 123)]\n",
      "1450 [(1, 55), (7, 123)]\n",
      "1450 [(1, 55), (7, 123)]\n",
      "1450 [(1, 55), (7, 123)]\n",
      "1450 [(1, 55), (7, 123)]\n",
      "1450 [(1, 55), (7, 123)]\n",
      "1450 [(1, 55), (7, 123)]\n",
      "1450 [(1, 55), (7, 123)]\n",
      "1450 [(1, 55), (7, 123)]\n",
      "1450 [(1, 55), (7, 123)]\n",
      "1450 [(1, 55), (7, 123)]\n",
      "1450 [(1, 55), (7, 123)]\n",
      "1450 [(1, 55), (7, 123)]\n",
      "1450 [(1, 55), (7, 123)]\n",
      "1450 [(1, 55), (7, 123)]\n",
      "1450 [(1, 55), (7, 123)]\n",
      "1450 [(1, 55), (7, 123)]\n",
      "1450 [(1, 55), (7, 123)]\n",
      "1450 [(1, 55), (7, 123)]\n",
      "1450 [(1, 55), (7, 123)]\n",
      "1450 [(1, 55), (7, 123)]\n",
      "1450 [(1, 55), (7, 123)]\n",
      "1450 [(1, 55), (7, 123)]\n",
      "1450 [(1, 55), (7, 123)]\n",
      "1450 [(1, 55), (7, 123)]\n",
      "1450 [(1, 55), (7, 123)]\n"
     ]
    }
   ],
   "source": [
    "import sys,re\n",
    "\n",
    "WORD_RE = re.compile(r'\\w+')\n",
    "index = {}\n",
    "\n",
    "with open(\"sejong.txt\", encoding='utf-8') as fp:\n",
    "    for line_no, line in enumerate(fp, 1):\n",
    "        for match in WORD_RE.finditer(line):\n",
    "            word = match.group()\n",
    "            column_no = match.start() +1\n",
    "            location = (line_no, column_no)\n",
    "            occurence = index.get(word,[])\n",
    "            occurence.append(location)\n",
    "            index[word] = occurence\n",
    "\n",
    "for work in sorted(index, key=str.upper):\n",
    "    print(word, index[word])"
   ]
  },
  {
   "cell_type": "markdown",
   "id": "347872da-30c6-4bb0-9434-04808fc3e795",
   "metadata": {},
   "source": [
    "예제3"
   ]
  },
  {
   "cell_type": "code",
   "execution_count": 9,
   "id": "12117169-0d67-4a0a-8252-30589a93d331",
   "metadata": {},
   "outputs": [
    {
     "name": "stdout",
     "output_type": "stream",
     "text": [
      "1 [(3, 447)]\n",
      "1397 [(1, 39)]\n",
      "1418 [(3, 118)]\n",
      "1422 [(3, 441)]\n",
      "1439 [(7, 6)]\n",
      "1450 [(1, 55), (7, 123)]\n",
      "15 [(1, 32)]\n",
      "2 [(5, 168)]\n",
      "3 [(5, 171)]\n",
      "30 [(1, 46)]\n",
      "4 [(5, 479)]\n",
      "5 [(5, 482)]\n",
      "6 [(7, 39)]\n",
      "a [(3, 184), (5, 339)]\n",
      "abdicated [(3, 224)]\n",
      "absolute [(3, 359)]\n",
      "acted [(7, 85)]\n",
      "advancements [(5, 185)]\n",
      "alphabet [(1, 316), (5, 158)]\n",
      "also [(5, 431)]\n",
      "amendments [(5, 88)]\n",
      "and [(1, 260), (3, 94), (3, 378), (3, 398), (5, 36), (5, 64), (5, 131), (5, 209), (5, 225), (5, 323), (7, 42)]\n",
      "areas [(5, 421)]\n",
      "as [(1, 107), (1, 211), (1, 278), (3, 167), (7, 91)]\n",
      "became [(7, 15)]\n",
      "brother [(3, 151)]\n",
      "campaigns [(5, 300)]\n",
      "Chungnyeong [(3, 31)]\n",
      "commonly [(1, 92)]\n",
      "Confucian [(5, 26), (5, 44)]\n",
      "conquered [(5, 411)]\n",
      "continued [(3, 402)]\n",
      "created [(5, 123)]\n",
      "crown [(3, 170)]\n",
      "Crown [(7, 62)]\n",
      "death [(3, 432)]\n",
      "died [(7, 109)]\n",
      "dynasty [(1, 178)]\n",
      "early [(3, 271)]\n",
      "economic [(5, 262)]\n",
      "eldest [(3, 144), (7, 50)]\n",
      "Emeritus [(3, 307)]\n",
      "enacted [(5, 68)]\n",
      "encouraged [(5, 174)]\n",
      "establishing [(5, 373)]\n",
      "executive [(3, 368)]\n",
      "favor [(3, 257)]\n",
      "few [(3, 186)]\n",
      "fourth [(1, 149)]\n",
      "From [(7, 1)]\n",
      "govern [(3, 415)]\n",
      "Grand [(3, 18)]\n",
      "Great [(1, 121)]\n",
      "greatest [(1, 225)]\n",
      "growth [(5, 271)]\n",
      "Hangul [(1, 297)]\n",
      "Hanja [(1, 21)]\n",
      "He [(1, 196), (5, 109), (5, 279), (5, 428)]\n",
      "he [(3, 57), (7, 12)]\n",
      "his [(3, 140), (3, 428), (7, 46)]\n",
      "history [(1, 251)]\n",
      "Hyang [(7, 78)]\n",
      "ill [(7, 35)]\n",
      "implemented [(5, 327)]\n",
      "in [(1, 241), (3, 245), (3, 438), (5, 198), (5, 398)]\n",
      "In [(3, 115), (3, 264)]\n",
      "increasingly [(7, 22)]\n",
      "Initially [(3, 1)]\n",
      "introduced [(5, 229)]\n",
      "inventor [(1, 285)]\n",
      "is [(1, 199), (1, 264)]\n",
      "island [(5, 471)]\n",
      "Je [(3, 163)]\n",
      "Joseon [(1, 171)]\n",
      "King [(3, 81), (3, 302)]\n",
      "known [(1, 101)]\n",
      "Korea [(1, 189)]\n",
      "Korean [(1, 9), (1, 244), (1, 332), (5, 19), (5, 151)]\n",
      "language [(1, 339)]\n",
      "later [(3, 197)]\n",
      "launched [(5, 282)]\n",
      "legal [(5, 82)]\n",
      "major [(5, 76)]\n",
      "March [(1, 49), (7, 117)]\n",
      "May [(1, 35)]\n",
      "measures [(5, 240)]\n",
      "military [(3, 382), (5, 291)]\n",
      "monarch [(1, 156)]\n",
      "months [(3, 190)]\n",
      "most [(3, 346)]\n",
      "name [(1, 71)]\n",
      "native [(1, 309)]\n",
      "Neo [(5, 40)]\n",
      "newly [(5, 405)]\n",
      "north [(5, 317)]\n",
      "notably [(3, 351)]\n",
      "Occupation [(5, 448)]\n",
      "of [(1, 164), (1, 186), (1, 218), (1, 294), (1, 325), (3, 78), (3, 283), (5, 459)]\n",
      "on [(7, 114)]\n",
      "one [(1, 214)]\n",
      "ordered [(5, 436)]\n",
      "personal [(1, 62)]\n",
      "personally [(5, 112)]\n",
      "policies [(5, 54)]\n",
      "policy [(5, 352)]\n",
      "power [(3, 391)]\n",
      "powers [(3, 338)]\n",
      "Prince [(3, 24), (7, 68)]\n",
      "prince [(3, 176)]\n",
      "promulgated [(5, 135)]\n",
      "Queen [(3, 98)]\n",
      "regarded [(1, 202)]\n",
      "regent [(7, 94)]\n",
      "reign [(3, 295)]\n",
      "reinforced [(5, 8)]\n",
      "relocation [(5, 341)]\n",
      "remembered [(1, 267)]\n",
      "replaced [(3, 131)]\n",
      "retained [(3, 324)]\n",
      "rulers [(1, 234)]\n",
      "s [(3, 255), (3, 293)]\n",
      "science [(5, 201)]\n",
      "Sejong [(1, 1), (1, 110), (3, 124), (3, 248), (3, 286), (5, 1), (7, 102)]\n",
      "settlements [(5, 386)]\n",
      "son [(3, 74), (7, 57)]\n",
      "stimulate [(5, 252)]\n",
      "Taejong [(3, 86), (3, 204), (3, 316)]\n",
      "technology [(5, 213)]\n",
      "the [(1, 117), (1, 145), (1, 167), (1, 221), (1, 281), (1, 305), (1, 328), (3, 64), (3, 234), (3, 267), (5, 147), (5, 313), (5, 401), (5, 444)]\n",
      "third [(3, 68)]\n",
      "throne [(3, 238)]\n",
      "titled [(3, 11)]\n",
      "To [(1, 79)]\n",
      "to [(3, 412), (5, 249), (5, 310)]\n",
      "Tsushima [(5, 462)]\n",
      "until [(3, 422)]\n",
      "vast [(3, 333)]\n",
      "voluntarily [(3, 212)]\n",
      "was [(1, 141), (3, 60)]\n",
      "Wongyeong [(3, 104)]\n",
      "years [(3, 277)]\n",
      "Yi [(1, 76), (3, 160), (7, 75)]\n",
      "世宗 [(1, 28)]\n",
      "世宗大王 [(1, 134)]\n",
      "徙民政策 [(5, 366)]\n",
      "忠寧大君 [(3, 50)]\n",
      "李祹 [(1, 87)]\n",
      "貢法 [(5, 104)]\n",
      "공법 [(5, 100)]\n",
      "사민정책 [(5, 360)]\n",
      "세종 [(1, 17)]\n",
      "세종대왕 [(1, 128)]\n",
      "이도 [(1, 83)]\n",
      "충녕대군 [(3, 44)]\n"
     ]
    }
   ],
   "source": [
    "\"\"\"\n",
    "단어가 나타나는 위치를 가리키는 인덱스를 만든다.\n",
    "\"\"\"\n",
    "\n",
    "import sys, re\n",
    "\n",
    "WORD_RE = re.compile(r'\\w+')\n",
    "index = {}\n",
    "\n",
    "with open(\"sejong.txt\", encoding='utf-8') as fp:\n",
    "    for line_no, line in enumerate(fp, 1):\n",
    "        for match in WORD_RE.finditer(line):\n",
    "            word = match.group()\n",
    "            column_no = match.start() + 1\n",
    "            location = (line_no, column_no)\n",
    "            index.setdefault(word, []).append(location)\n",
    "\n",
    "for word in sorted(index, key=str.upper):\n",
    "    print(word, index[word])"
   ]
  },
  {
   "cell_type": "markdown",
   "id": "357a27f4-4347-45b9-a6f8-7f241415ba53",
   "metadata": {},
   "source": [
    "예제4"
   ]
  },
  {
   "cell_type": "code",
   "execution_count": 10,
   "id": "d9729d07-c430-4367-a651-674df5d57a80",
   "metadata": {},
   "outputs": [
    {
     "name": "stdout",
     "output_type": "stream",
     "text": [
      "1 [(3, 447)]\n",
      "1397 [(1, 39)]\n",
      "1418 [(3, 118)]\n",
      "1422 [(3, 441)]\n",
      "1439 [(7, 6)]\n",
      "1450 [(1, 55), (7, 123)]\n",
      "15 [(1, 32)]\n",
      "2 [(5, 168)]\n",
      "3 [(5, 171)]\n",
      "30 [(1, 46)]\n",
      "4 [(5, 479)]\n",
      "5 [(5, 482)]\n",
      "6 [(7, 39)]\n",
      "a [(3, 184), (5, 339)]\n",
      "abdicated [(3, 224)]\n",
      "absolute [(3, 359)]\n",
      "acted [(7, 85)]\n",
      "advancements [(5, 185)]\n",
      "alphabet [(1, 316), (5, 158)]\n",
      "also [(5, 431)]\n",
      "amendments [(5, 88)]\n",
      "and [(1, 260), (3, 94), (3, 378), (3, 398), (5, 36), (5, 64), (5, 131), (5, 209), (5, 225), (5, 323), (7, 42)]\n",
      "areas [(5, 421)]\n",
      "as [(1, 107), (1, 211), (1, 278), (3, 167), (7, 91)]\n",
      "became [(7, 15)]\n",
      "brother [(3, 151)]\n",
      "campaigns [(5, 300)]\n",
      "Chungnyeong [(3, 31)]\n",
      "commonly [(1, 92)]\n",
      "Confucian [(5, 26), (5, 44)]\n",
      "conquered [(5, 411)]\n",
      "continued [(3, 402)]\n",
      "created [(5, 123)]\n",
      "crown [(3, 170)]\n",
      "Crown [(7, 62)]\n",
      "death [(3, 432)]\n",
      "died [(7, 109)]\n",
      "dynasty [(1, 178)]\n",
      "early [(3, 271)]\n",
      "economic [(5, 262)]\n",
      "eldest [(3, 144), (7, 50)]\n",
      "Emeritus [(3, 307)]\n",
      "enacted [(5, 68)]\n",
      "encouraged [(5, 174)]\n",
      "establishing [(5, 373)]\n",
      "executive [(3, 368)]\n",
      "favor [(3, 257)]\n",
      "few [(3, 186)]\n",
      "fourth [(1, 149)]\n",
      "From [(7, 1)]\n",
      "govern [(3, 415)]\n",
      "Grand [(3, 18)]\n",
      "Great [(1, 121)]\n",
      "greatest [(1, 225)]\n",
      "growth [(5, 271)]\n",
      "Hangul [(1, 297)]\n",
      "Hanja [(1, 21)]\n",
      "He [(1, 196), (5, 109), (5, 279), (5, 428)]\n",
      "he [(3, 57), (7, 12)]\n",
      "his [(3, 140), (3, 428), (7, 46)]\n",
      "history [(1, 251)]\n",
      "Hyang [(7, 78)]\n",
      "ill [(7, 35)]\n",
      "implemented [(5, 327)]\n",
      "in [(1, 241), (3, 245), (3, 438), (5, 198), (5, 398)]\n",
      "In [(3, 115), (3, 264)]\n",
      "increasingly [(7, 22)]\n",
      "Initially [(3, 1)]\n",
      "introduced [(5, 229)]\n",
      "inventor [(1, 285)]\n",
      "is [(1, 199), (1, 264)]\n",
      "island [(5, 471)]\n",
      "Je [(3, 163)]\n",
      "Joseon [(1, 171)]\n",
      "King [(3, 81), (3, 302)]\n",
      "known [(1, 101)]\n",
      "Korea [(1, 189)]\n",
      "Korean [(1, 9), (1, 244), (1, 332), (5, 19), (5, 151)]\n",
      "language [(1, 339)]\n",
      "later [(3, 197)]\n",
      "launched [(5, 282)]\n",
      "legal [(5, 82)]\n",
      "major [(5, 76)]\n",
      "March [(1, 49), (7, 117)]\n",
      "May [(1, 35)]\n",
      "measures [(5, 240)]\n",
      "military [(3, 382), (5, 291)]\n",
      "monarch [(1, 156)]\n",
      "months [(3, 190)]\n",
      "most [(3, 346)]\n",
      "name [(1, 71)]\n",
      "native [(1, 309)]\n",
      "Neo [(5, 40)]\n",
      "newly [(5, 405)]\n",
      "north [(5, 317)]\n",
      "notably [(3, 351)]\n",
      "Occupation [(5, 448)]\n",
      "of [(1, 164), (1, 186), (1, 218), (1, 294), (1, 325), (3, 78), (3, 283), (5, 459)]\n",
      "on [(7, 114)]\n",
      "one [(1, 214)]\n",
      "ordered [(5, 436)]\n",
      "personal [(1, 62)]\n",
      "personally [(5, 112)]\n",
      "policies [(5, 54)]\n",
      "policy [(5, 352)]\n",
      "power [(3, 391)]\n",
      "powers [(3, 338)]\n",
      "Prince [(3, 24), (7, 68)]\n",
      "prince [(3, 176)]\n",
      "promulgated [(5, 135)]\n",
      "Queen [(3, 98)]\n",
      "regarded [(1, 202)]\n",
      "regent [(7, 94)]\n",
      "reign [(3, 295)]\n",
      "reinforced [(5, 8)]\n",
      "relocation [(5, 341)]\n",
      "remembered [(1, 267)]\n",
      "replaced [(3, 131)]\n",
      "retained [(3, 324)]\n",
      "rulers [(1, 234)]\n",
      "s [(3, 255), (3, 293)]\n",
      "science [(5, 201)]\n",
      "Sejong [(1, 1), (1, 110), (3, 124), (3, 248), (3, 286), (5, 1), (7, 102)]\n",
      "settlements [(5, 386)]\n",
      "son [(3, 74), (7, 57)]\n",
      "stimulate [(5, 252)]\n",
      "Taejong [(3, 86), (3, 204), (3, 316)]\n",
      "technology [(5, 213)]\n",
      "the [(1, 117), (1, 145), (1, 167), (1, 221), (1, 281), (1, 305), (1, 328), (3, 64), (3, 234), (3, 267), (5, 147), (5, 313), (5, 401), (5, 444)]\n",
      "third [(3, 68)]\n",
      "throne [(3, 238)]\n",
      "titled [(3, 11)]\n",
      "To [(1, 79)]\n",
      "to [(3, 412), (5, 249), (5, 310)]\n",
      "Tsushima [(5, 462)]\n",
      "until [(3, 422)]\n",
      "vast [(3, 333)]\n",
      "voluntarily [(3, 212)]\n",
      "was [(1, 141), (3, 60)]\n",
      "Wongyeong [(3, 104)]\n",
      "years [(3, 277)]\n",
      "Yi [(1, 76), (3, 160), (7, 75)]\n",
      "世宗 [(1, 28)]\n",
      "世宗大王 [(1, 134)]\n",
      "徙民政策 [(5, 366)]\n",
      "忠寧大君 [(3, 50)]\n",
      "李祹 [(1, 87)]\n",
      "貢法 [(5, 104)]\n",
      "공법 [(5, 100)]\n",
      "사민정책 [(5, 360)]\n",
      "세종 [(1, 17)]\n",
      "세종대왕 [(1, 128)]\n",
      "이도 [(1, 83)]\n",
      "충녕대군 [(3, 44)]\n"
     ]
    }
   ],
   "source": [
    " \"\"\"\n",
    "단어가 나타나는 위치를 가리키는 인덱스를 만든다.\n",
    "\"\"\"\n",
    "\n",
    "import sys, re, collections\n",
    "\n",
    "WORD_RE = re.compile(r'\\w+')\n",
    "index = collections.defaultdict(list)  # defaultdict 사용\n",
    "\n",
    "with open(\"sejong.txt\", encoding='utf-8') as fp:\n",
    "    for line_no, line in enumerate(fp, 1):\n",
    "        for match in WORD_RE.finditer(line):\n",
    "            word = match.group()\n",
    "            column_no = match.start() + 1\n",
    "            location = (line_no, column_no)\n",
    "            index[word].append(location)\n",
    "\n",
    "for word in sorted(index, key=str.upper):\n",
    "    print(word, index[word])\n"
   ]
  },
  {
   "cell_type": "markdown",
   "id": "e721bbae-5371-46a7-8b1e-d61812556fa9",
   "metadata": {},
   "source": [
    "예제5"
   ]
  },
  {
   "cell_type": "code",
   "execution_count": 11,
   "id": "5276015b-fbb1-42f2-9c63-cd71301e11e2",
   "metadata": {},
   "outputs": [],
   "source": [
    "class StrKeyDict0(dict):\n",
    "    # dict 상속\n",
    "    \n",
    "    def __missing__(self, key):\n",
    "        \"\"\"\n",
    "        키가 없으면 __missing__() 메서드를 재귀적으로 호출\n",
    "        \"\"\"\n",
    "        if isinstance(key, str):\n",
    "            # 키가 문자열인지 확인. 존재하지 않으면 에러 KeyError 발생\n",
    "            raise KeyError(key)\n",
    "        return self[str(key)]  # 키에서 문자열 만들고 조회\n",
    "    \n",
    "    def get(self, key, default=None):\n",
    "        \"\"\"\n",
    "        get() 메서드는 self[key] 표기법을 이용, __getitem__() 메서드에 위임\n",
    "        키가 없으면 __missing__() 메서드가 작동할 수 있게 함\n",
    "        \"\"\"\n",
    "        try:\n",
    "            return self[key]\n",
    "        except KeyError:\n",
    "            # KeyError가 발생하면 __missing__() 메서드 실패 -> default 반환\n",
    "            return default\n",
    "    \n",
    "    def __contains__(self, key):\n",
    "        \"\"\"\n",
    "        'key in self': 재귀적으로 __contains__() 호출\n",
    "        수정하지 않은 키(문자열이 아닐 수 있는)를 검색 후, 키에서 만든 문자열로 검색\n",
    "        \"\"\"\n",
    "        return key in self.keys() or str(key) in self.keys()\n"
   ]
  },
  {
   "cell_type": "markdown",
   "id": "aa081796-2126-45cf-9993-73479f2ba499",
   "metadata": {},
   "source": [
    "예제6"
   ]
  },
  {
   "cell_type": "code",
   "execution_count": 13,
   "id": "6be75faa-c568-4867-8a09-fc09be2bebeb",
   "metadata": {},
   "outputs": [
    {
     "data": {
      "text/plain": [
       "'two'"
      ]
     },
     "execution_count": 13,
     "metadata": {},
     "output_type": "execute_result"
    }
   ],
   "source": [
    "d = StrKeyDict0([('2','two'),('4','four')])\n",
    "d['2']"
   ]
  },
  {
   "cell_type": "code",
   "execution_count": 14,
   "id": "18311a87-60b2-49eb-85a2-80fd618260ae",
   "metadata": {},
   "outputs": [
    {
     "data": {
      "text/plain": [
       "'four'"
      ]
     },
     "execution_count": 14,
     "metadata": {},
     "output_type": "execute_result"
    }
   ],
   "source": [
    "d[4]"
   ]
  },
  {
   "cell_type": "code",
   "execution_count": 15,
   "id": "622faae3-0fe9-41c5-9cd3-c443ccffc0cf",
   "metadata": {},
   "outputs": [
    {
     "data": {
      "text/plain": [
       "'two'"
      ]
     },
     "execution_count": 15,
     "metadata": {},
     "output_type": "execute_result"
    }
   ],
   "source": [
    "d.get('2')"
   ]
  },
  {
   "cell_type": "code",
   "execution_count": 16,
   "id": "ce81c800-c1fc-478f-b3d6-8ad0f0a095cd",
   "metadata": {},
   "outputs": [
    {
     "data": {
      "text/plain": [
       "'four'"
      ]
     },
     "execution_count": 16,
     "metadata": {},
     "output_type": "execute_result"
    }
   ],
   "source": [
    "d.get(4)"
   ]
  },
  {
   "cell_type": "code",
   "execution_count": 17,
   "id": "058f5883-19dd-473b-b2ac-364de1246e81",
   "metadata": {},
   "outputs": [
    {
     "data": {
      "text/plain": [
       "'N/A'"
      ]
     },
     "execution_count": 17,
     "metadata": {},
     "output_type": "execute_result"
    }
   ],
   "source": [
    "d.get(1,'N/A')"
   ]
  },
  {
   "cell_type": "code",
   "execution_count": 20,
   "id": "ddad0ca6-a270-4e23-8ae4-0839809d3245",
   "metadata": {},
   "outputs": [
    {
     "data": {
      "text/plain": [
       "True"
      ]
     },
     "execution_count": 20,
     "metadata": {},
     "output_type": "execute_result"
    }
   ],
   "source": [
    "2 in d"
   ]
  },
  {
   "cell_type": "markdown",
   "id": "61c1dd7d-0573-4498-ae0e-a28777241508",
   "metadata": {},
   "source": [
    "예제7"
   ]
  },
  {
   "cell_type": "code",
   "execution_count": 19,
   "id": "4c2474fa-4209-4c5b-a37f-ee7b3d3ae8bb",
   "metadata": {},
   "outputs": [
    {
     "ename": "KeyError",
     "evalue": "'1'",
     "output_type": "error",
     "traceback": [
      "\u001b[1;31m---------------------------------------------------------------------------\u001b[0m",
      "\u001b[1;31mKeyError\u001b[0m                                  Traceback (most recent call last)",
      "Cell \u001b[1;32mIn[19], line 1\u001b[0m\n\u001b[1;32m----> 1\u001b[0m d[\u001b[38;5;241m1\u001b[39m]\n",
      "Cell \u001b[1;32mIn[11], line 11\u001b[0m, in \u001b[0;36mStrKeyDict0.__missing__\u001b[1;34m(self, key)\u001b[0m\n\u001b[0;32m      8\u001b[0m \u001b[38;5;28;01mif\u001b[39;00m \u001b[38;5;28misinstance\u001b[39m(key, \u001b[38;5;28mstr\u001b[39m):\n\u001b[0;32m      9\u001b[0m     \u001b[38;5;66;03m# 키가 문자열인지 확인. 존재하지 않으면 에러 KeyError 발생\u001b[39;00m\n\u001b[0;32m     10\u001b[0m     \u001b[38;5;28;01mraise\u001b[39;00m \u001b[38;5;167;01mKeyError\u001b[39;00m(key)\n\u001b[1;32m---> 11\u001b[0m \u001b[38;5;28;01mreturn\u001b[39;00m \u001b[38;5;28mself\u001b[39m[\u001b[38;5;28mstr\u001b[39m(key)]\n",
      "Cell \u001b[1;32mIn[11], line 10\u001b[0m, in \u001b[0;36mStrKeyDict0.__missing__\u001b[1;34m(self, key)\u001b[0m\n\u001b[0;32m      5\u001b[0m \u001b[38;5;250m\u001b[39m\u001b[38;5;124;03m\"\"\"\u001b[39;00m\n\u001b[0;32m      6\u001b[0m \u001b[38;5;124;03m키가 없으면 __missing__() 메서드를 재귀적으로 호출\u001b[39;00m\n\u001b[0;32m      7\u001b[0m \u001b[38;5;124;03m\"\"\"\u001b[39;00m\n\u001b[0;32m      8\u001b[0m \u001b[38;5;28;01mif\u001b[39;00m \u001b[38;5;28misinstance\u001b[39m(key, \u001b[38;5;28mstr\u001b[39m):\n\u001b[0;32m      9\u001b[0m     \u001b[38;5;66;03m# 키가 문자열인지 확인. 존재하지 않으면 에러 KeyError 발생\u001b[39;00m\n\u001b[1;32m---> 10\u001b[0m     \u001b[38;5;28;01mraise\u001b[39;00m \u001b[38;5;167;01mKeyError\u001b[39;00m(key)\n\u001b[0;32m     11\u001b[0m \u001b[38;5;28;01mreturn\u001b[39;00m \u001b[38;5;28mself\u001b[39m[\u001b[38;5;28mstr\u001b[39m(key)]\n",
      "\u001b[1;31mKeyError\u001b[0m: '1'"
     ]
    }
   ],
   "source": [
    "d[1]"
   ]
  },
  {
   "cell_type": "markdown",
   "id": "e154a6fa-9f29-46c8-9c01-d6df62020d69",
   "metadata": {},
   "source": [
    "예제8"
   ]
  },
  {
   "cell_type": "code",
   "execution_count": 23,
   "id": "8f3552eb-7fdb-4538-8ab1-493b8923b05b",
   "metadata": {},
   "outputs": [],
   "source": [
    "class StrKeyDict(collections.UserDict):\n",
    "    def __missing__(self, key):\n",
    "        if isinstace(key, str):\n",
    "            raise KeyError(key)\n",
    "        return self[str(key)]\n",
    "\n",
    "    def __contains__(Self, key):\n",
    "        return str(key) in self.data\n",
    "\n",
    "    def __setitem__(self, key, item):\n",
    "        self.data[str(key)] = item"
   ]
  },
  {
   "cell_type": "markdown",
   "id": "b98e8060-2051-4b45-8edd-9b1ec11b74d6",
   "metadata": {},
   "source": [
    "예제9"
   ]
  },
  {
   "cell_type": "code",
   "execution_count": 25,
   "id": "ec0d8e48-a1ee-49a1-ad19-83b44b4327f4",
   "metadata": {},
   "outputs": [],
   "source": [
    "from types import MappingProxyType\n",
    "d = {1: 'A'}\n",
    "d_proxy = MappingProxyType(d)"
   ]
  },
  {
   "cell_type": "code",
   "execution_count": 26,
   "id": "811e15b9-2f12-4adc-8cc8-50c72d96b3ec",
   "metadata": {},
   "outputs": [
    {
     "data": {
      "text/plain": [
       "mappingproxy({1: 'A'})"
      ]
     },
     "execution_count": 26,
     "metadata": {},
     "output_type": "execute_result"
    }
   ],
   "source": [
    "d_proxy"
   ]
  },
  {
   "cell_type": "code",
   "execution_count": 27,
   "id": "3cab57a9-6582-4bce-b85c-4a7df2694bf3",
   "metadata": {},
   "outputs": [
    {
     "data": {
      "text/plain": [
       "'A'"
      ]
     },
     "execution_count": 27,
     "metadata": {},
     "output_type": "execute_result"
    }
   ],
   "source": [
    "d_proxy[1]"
   ]
  },
  {
   "cell_type": "code",
   "execution_count": 28,
   "id": "3a93f851-ee9d-4836-b7b0-7ff1369e0914",
   "metadata": {},
   "outputs": [
    {
     "ename": "TypeError",
     "evalue": "'mappingproxy' object does not support item assignment",
     "output_type": "error",
     "traceback": [
      "\u001b[1;31m---------------------------------------------------------------------------\u001b[0m",
      "\u001b[1;31mTypeError\u001b[0m                                 Traceback (most recent call last)",
      "Cell \u001b[1;32mIn[28], line 1\u001b[0m\n\u001b[1;32m----> 1\u001b[0m d_proxy[\u001b[38;5;241m2\u001b[39m] \u001b[38;5;241m=\u001b[39m \u001b[38;5;124m'\u001b[39m\u001b[38;5;124mx\u001b[39m\u001b[38;5;124m'\u001b[39m\n",
      "\u001b[1;31mTypeError\u001b[0m: 'mappingproxy' object does not support item assignment"
     ]
    }
   ],
   "source": [
    "d_proxy[2] = 'x'"
   ]
  },
  {
   "cell_type": "markdown",
   "id": "82284b18-8a2f-423d-8ca8-0891d05d049f",
   "metadata": {},
   "source": [
    "예제 10"
   ]
  },
  {
   "cell_type": "code",
   "execution_count": 29,
   "id": "527e4af9-8cc1-4aea-b6b6-73e1d6cb929c",
   "metadata": {},
   "outputs": [
    {
     "data": {
      "text/plain": [
       "{'egges', 'spam'}"
      ]
     },
     "execution_count": 29,
     "metadata": {},
     "output_type": "execute_result"
    }
   ],
   "source": [
    "l = [\"spam\", \"spam\", \"egges\", \"spam\"]\n",
    "set(l)"
   ]
  },
  {
   "cell_type": "code",
   "execution_count": 30,
   "id": "045c8e57-a2d7-432f-8d0d-c10acfcf6d51",
   "metadata": {},
   "outputs": [
    {
     "data": {
      "text/plain": [
       "['egges', 'spam']"
      ]
     },
     "execution_count": 30,
     "metadata": {},
     "output_type": "execute_result"
    }
   ],
   "source": [
    "list(set(l))"
   ]
  },
  {
   "cell_type": "markdown",
   "id": "78a9174f-ac86-42ae-9976-d15b1bdc0b16",
   "metadata": {},
   "source": [
    "예제11"
   ]
  },
  {
   "cell_type": "code",
   "execution_count": 31,
   "id": "31069fdd-fd23-4525-9f74-a52eb815efe3",
   "metadata": {},
   "outputs": [
    {
     "data": {
      "text/plain": [
       "2"
      ]
     },
     "execution_count": 31,
     "metadata": {},
     "output_type": "execute_result"
    }
   ],
   "source": [
    "l = set([\"spam\", \"spam\", \"eggs\", \"spam\", \"eggs\", \"meats\", \"onions\", \"onions\"])\n",
    "m = set([\"eggs\", \"onions\"])\n",
    "\n",
    "found = len(l & m)\n",
    "found"
   ]
  },
  {
   "cell_type": "code",
   "execution_count": 32,
   "id": "ad0e701c-653d-4499-a241-a9a968f44884",
   "metadata": {},
   "outputs": [
    {
     "data": {
      "text/plain": [
       "2"
      ]
     },
     "execution_count": 32,
     "metadata": {},
     "output_type": "execute_result"
    }
   ],
   "source": [
    "found = 0\n",
    "for n in m:\n",
    "    if n in l:\n",
    "        found += 1\n",
    "found"
   ]
  },
  {
   "cell_type": "code",
   "execution_count": 33,
   "id": "dfef7864-c0a8-4b3c-a847-025feb39bbbd",
   "metadata": {},
   "outputs": [
    {
     "data": {
      "text/plain": [
       "2"
      ]
     },
     "execution_count": 33,
     "metadata": {},
     "output_type": "execute_result"
    }
   ],
   "source": [
    "found = len(l.intersection(m))\n",
    "found"
   ]
  },
  {
   "cell_type": "markdown",
   "id": "bf388d77-1d45-4bc9-a9f5-56b5f69b259b",
   "metadata": {},
   "source": [
    "예제12"
   ]
  },
  {
   "cell_type": "code",
   "execution_count": 34,
   "id": "1d1c8191-6753-49ec-a3b6-3c03085a6530",
   "metadata": {},
   "outputs": [
    {
     "name": "stdout",
     "output_type": "stream",
     "text": [
      "<class 'set'>\n",
      "{1}\n",
      "set()\n"
     ]
    }
   ],
   "source": [
    "s = {1}\n",
    "print(type(s))\n",
    "print(s)\n",
    "\n",
    "s.pop()\n",
    "print(s)"
   ]
  },
  {
   "cell_type": "markdown",
   "id": "ac59c7e0-2313-4d9a-917b-2a5936cfc7ea",
   "metadata": {},
   "source": [
    "예제13"
   ]
  },
  {
   "cell_type": "code",
   "execution_count": 40,
   "id": "561822e9-e85e-4f50-be7f-63be862dd8c2",
   "metadata": {},
   "outputs": [
    {
     "data": {
      "text/plain": [
       "{'#',\n",
       " '$',\n",
       " '%',\n",
       " '+',\n",
       " '<',\n",
       " '=',\n",
       " '>',\n",
       " '¢',\n",
       " '£',\n",
       " '¤',\n",
       " '¥',\n",
       " '§',\n",
       " '©',\n",
       " '¬',\n",
       " '®',\n",
       " '°',\n",
       " '±',\n",
       " 'µ',\n",
       " '¶',\n",
       " '×',\n",
       " '÷'}"
      ]
     },
     "execution_count": 40,
     "metadata": {},
     "output_type": "execute_result"
    }
   ],
   "source": [
    "from unicodedata import name\n",
    "{chr(i) for i in range(32, 256) if 'SIGN' in name(chr(i), ' ')}"
   ]
  },
  {
   "cell_type": "markdown",
   "id": "59e9b17d-0024-43ac-9036-f1a70280d9d2",
   "metadata": {},
   "source": [
    "예제14"
   ]
  },
  {
   "cell_type": "code",
   "execution_count": 51,
   "id": "aca2d0d5-85c5-43a1-a3f4-81e89183166e",
   "metadata": {},
   "outputs": [
    {
     "name": "stdout",
     "output_type": "stream",
     "text": [
      "d1: dict_keys([82, 91, 1, 92, 7])\n",
      "d2: dict_keys([1, 7, 82, 91, 92])\n",
      "d3: dict_keys([91, 82, 92, 7, 1])\n"
     ]
    }
   ],
   "source": [
    "DIAL_CODES = [\n",
    "    (82, 'Korea'),\n",
    "    (91, 'India'),\n",
    "    (1, 'United States'),\n",
    "    (92, 'Pakistan'),\n",
    "    (7, 'Russia')\n",
    "]\n",
    "\n",
    "# 인구가 많은 순서대로 정렬된 튜플 생성\n",
    "d1 = dict(DIAL_CODES)\n",
    "print(f'd1: {d1.keys()}')\n",
    "# 국제전화 코드로 정렬된 튜플 생성\n",
    "d2 = dict(sorted(DIAL_CODES))\n",
    "print(f'd2: {d2.keys()}')\n",
    "# 국제명으로 정렬된 튜플 생성\n",
    "d3 = dict(sorted(DIAL_CODES, key=lambda x:x[1]))\n",
    "print(f'd3: {d3.keys()}')\n",
    "\n",
    "assert d1 == d2 and d2 == d3\n",
    "# 딕셔너리가 모두 동일한 키-값 쌍을 갖고 있음을 판단"
   ]
  },
  {
   "cell_type": "code",
   "execution_count": null,
   "id": "96520132-d6a8-43a9-9e05-dda55e736b9c",
   "metadata": {},
   "outputs": [],
   "source": []
  }
 ],
 "metadata": {
  "kernelspec": {
   "display_name": "Python 3 (ipykernel)",
   "language": "python",
   "name": "python3"
  },
  "language_info": {
   "codemirror_mode": {
    "name": "ipython",
    "version": 3
   },
   "file_extension": ".py",
   "mimetype": "text/x-python",
   "name": "python",
   "nbconvert_exporter": "python",
   "pygments_lexer": "ipython3",
   "version": "3.11.7"
  }
 },
 "nbformat": 4,
 "nbformat_minor": 5
}
